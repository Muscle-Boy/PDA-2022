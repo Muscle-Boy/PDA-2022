{
 "cells": [
  {
   "cell_type": "markdown",
   "id": "3c9dc5c7",
   "metadata": {},
   "source": [
    "# PDA"
   ]
  },
  {
   "cell_type": "markdown",
   "id": "3e858594",
   "metadata": {},
   "source": [
    "## Insert article into c then run all codes, results at the end"
   ]
  },
  {
   "cell_type": "code",
   "execution_count": 1,
   "id": "573a4634",
   "metadata": {},
   "outputs": [],
   "source": [
    "c = \"1.5 million Singaporeans to get up to S$300 cash in special GST Voucher payment, all households to get S$100 utilities credit\""
   ]
  },
  {
   "cell_type": "code",
   "execution_count": 2,
   "id": "a39eba37",
   "metadata": {},
   "outputs": [],
   "source": [
    "def trial(a):\n",
    "\n",
    "    #if len > 60, use summerization\n",
    "    links = google(a)  \n",
    "    print(links)\n",
    "    links = crawlall(links)\n",
    "    crossref_results = test(a,links[0],links[1],links[2])\n",
    "\n",
    "    \n",
    "    return crossref_results"
   ]
  },
  {
   "cell_type": "code",
   "execution_count": 3,
   "id": "f2215a9c",
   "metadata": {},
   "outputs": [
    {
     "name": "stderr",
     "output_type": "stream",
     "text": [
      "No model was supplied, defaulted to distilbert-base-uncased-finetuned-sst-2-english (https://huggingface.co/distilbert-base-uncased-finetuned-sst-2-english)\n"
     ]
    }
   ],
   "source": [
    "#using summarization to get keywords for search \n",
    "from transformers import pipeline\n",
    "\n",
    "summarizer = pipeline(\"summarization\", model=\"facebook/bart-large-cnn\")\n",
    "classifier = pipeline(\"sentiment-analysis\")\n",
    "\n",
    "\n",
    "def summarisation(c):\n",
    "    b = summarizer(c, max_length=130, min_length=30, do_sample=False)\n",
    "    #remove 'summary_text' heading\n",
    "    b = str(b[17:])\n",
    "    return(b)"
   ]
  },
  {
   "cell_type": "code",
   "execution_count": 4,
   "id": "d6dca55a",
   "metadata": {},
   "outputs": [],
   "source": [
    "#pip install google\n",
    "#crawl top 3 links from google search\n",
    "def google(a):\n",
    "    try:\n",
    "        from googlesearch import search\n",
    "    except ImportError:\n",
    "        print(\"No module named 'google' found\")\n",
    "\n",
    "# to search\n",
    "    query = a\n",
    "    x = []\n",
    "    for j in search(query, tld=\"co.in\", num=1, stop=3, pause=2):\n",
    "        x.append(j)\n",
    "    #returning a list\n",
    "    return(x)"
   ]
  },
  {
   "cell_type": "code",
   "execution_count": 5,
   "id": "aa487997",
   "metadata": {},
   "outputs": [],
   "source": [
    "#crawl part 1\n",
    "#crawl content within the link\n",
    "import requests\n",
    "from bs4 import BeautifulSoup\n",
    "\n",
    "def crawl(a):\n",
    "    URL = a\n",
    "    page = requests.get(URL)\n",
    "\n",
    "    soup = BeautifulSoup(page.content, \"html.parser\")\n",
    "\n",
    "    company = soup.find_all('p')\n",
    "    c = \"\"\n",
    "    for i in range(0,len(company)):\n",
    "        c = c + company[i].get_text()\n",
    "    \n",
    "    return(c)"
   ]
  },
  {
   "cell_type": "code",
   "execution_count": 6,
   "id": "00328b24",
   "metadata": {},
   "outputs": [],
   "source": [
    "#crawl all in the list part 2\n",
    "def crawlall(a):\n",
    "    xx = []\n",
    "    for i in range(0,len(a)):\n",
    "        y = str(crawl(a[i]))\n",
    "        xx.append(y)\n",
    "    return xx"
   ]
  },
  {
   "cell_type": "code",
   "execution_count": 7,
   "id": "752e5ee0",
   "metadata": {},
   "outputs": [],
   "source": [
    "#pip install -U sentence-transformers\n",
    "#compare similarity between the content\n",
    "from sentence_transformers import SentenceTransformer\n",
    "from sentence_transformers import SentenceTransformer, util\n",
    "\n",
    "def test(a,b,c,d):\n",
    "    sentences_one = [a,b]\n",
    "    sentences_two = [a,c]\n",
    "    sentences_three = [a,d]\n",
    "\n",
    "    model = SentenceTransformer('sentence-transformers/paraphrase-MiniLM-L6-v2')\n",
    "    embeddings = model.encode(sentences_one)\n",
    "    one = (util.pytorch_cos_sim(embeddings[0], embeddings[1]))\n",
    "    print(one)\n",
    "\n",
    "    embeddings = model.encode(sentences_two)\n",
    "    two = (util.pytorch_cos_sim(embeddings[0], embeddings[1]))\n",
    "    print(two)\n",
    "    \n",
    "    embeddings = model.encode(sentences_three)\n",
    "    three = (util.pytorch_cos_sim(embeddings[0], embeddings[1]))\n",
    "    print(three)\n",
    "    \n",
    "    avg = (one + two + three)/3\n",
    "    print(avg)\n",
    "    \n",
    "    avg = avg.item()\n",
    "    \n",
    "    if avg >= 0.5:\n",
    "        result = \"real with\" + \" \" + str(avg*100) + \"% \" + \"confidence\"\n",
    "    \n",
    "    else:\n",
    "        result = \"fake with\" + \" \" + str((1-avg)*100) + \"% \" + \"confidence\"\n",
    "    \n",
    "    return(result)\n",
    "    "
   ]
  },
  {
   "cell_type": "code",
   "execution_count": 8,
   "id": "6934e5c1",
   "metadata": {},
   "outputs": [
    {
     "name": "stdout",
     "output_type": "stream",
     "text": [
      "['https://www.channelnewsasia.com/singapore/gst-voucher-cash-special-payment-singaporeans-household-utilities-credit-2759761', 'https://vulcanpost.com/792535/special-gst-cash-voucher-august-2022-singapore/', 'https://www.todayonline.com/singapore/15m-eligible-adult-sporeans-each-get-s300-cash-part-s15b-support-package-amid-rising-living-costs-1929501']\n",
      "tensor([[0.7527]])\n",
      "tensor([[0.7780]])\n",
      "tensor([[0.7427]])\n",
      "tensor([[0.7578]])\n"
     ]
    },
    {
     "data": {
      "text/plain": [
       "'real with 75.77913403511047% confidence'"
      ]
     },
     "execution_count": 8,
     "metadata": {},
     "output_type": "execute_result"
    }
   ],
   "source": [
    "trial(c)"
   ]
  },
  {
   "cell_type": "code",
   "execution_count": null,
   "id": "6919b9b6",
   "metadata": {},
   "outputs": [],
   "source": []
  }
 ],
 "metadata": {
  "kernelspec": {
   "display_name": "Python 3.8.8 ('base')",
   "language": "python",
   "name": "python3"
  },
  "language_info": {
   "codemirror_mode": {
    "name": "ipython",
    "version": 3
   },
   "file_extension": ".py",
   "mimetype": "text/x-python",
   "name": "python",
   "nbconvert_exporter": "python",
   "pygments_lexer": "ipython3",
   "version": "3.8.8"
  },
  "vscode": {
   "interpreter": {
    "hash": "567dc575d908094162af956dd35f0098cfd9569594abc920ea78d4acc651fed1"
   }
  }
 },
 "nbformat": 4,
 "nbformat_minor": 5
}
