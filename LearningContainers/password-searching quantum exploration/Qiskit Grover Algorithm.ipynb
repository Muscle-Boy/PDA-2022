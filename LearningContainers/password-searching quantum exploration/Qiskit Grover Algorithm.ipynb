{
 "cells": [
  {
   "cell_type": "markdown",
   "id": "brilliant-rwanda",
   "metadata": {},
   "source": [
    "## Set Up and Hello World"
   ]
  },
  {
   "cell_type": "code",
   "execution_count": 1,
   "id": "fossil-sweden",
   "metadata": {},
   "outputs": [],
   "source": [
    "from qiskit_ibm_runtime import QiskitRuntimeService\n",
    "\n",
    "# Save an IBM Quantum account.\n",
    "QiskitRuntimeService.save_account(overwrite=True, channel=\"ibm_quantum\", token=\"818301ddb1a98a2df3cc203c800d944e0f5a1e38dabb4a0fd3cd2db2bee19e667802dbade73b917b084782b56f030cc1e367931a2eea3adc466826a1a1eb2696\")\n"
   ]
  },
  {
   "cell_type": "code",
   "execution_count": 2,
   "id": "quick-culture",
   "metadata": {},
   "outputs": [
    {
     "name": "stdout",
     "output_type": "stream",
     "text": [
      "job id: cahbsae8jrdfemu7gkp0\n",
      "Hello, World!\n"
     ]
    }
   ],
   "source": [
    "from qiskit.test.reference_circuits import ReferenceCircuits\n",
    "from qiskit_ibm_runtime import QiskitRuntimeService\n",
    "\n",
    "service = QiskitRuntimeService()\n",
    "program_inputs = {'iterations': 1}\n",
    "options = {\"backend_name\": \"ibmq_qasm_simulator\"}\n",
    "job = service.run(program_id=\"hello-world\",\n",
    "                options=options,\n",
    "                inputs=program_inputs\n",
    "                )\n",
    "print(f\"job id: {job.job_id}\")\n",
    "result = job.result()\n",
    "print(result)"
   ]
  },
  {
   "cell_type": "markdown",
   "id": "black-lender",
   "metadata": {},
   "source": [
    "## Grover"
   ]
  },
  {
   "cell_type": "code",
   "execution_count": 3,
   "id": "expired-repeat",
   "metadata": {},
   "outputs": [
    {
     "name": "stdout",
     "output_type": "stream",
     "text": [
      "pw = 16, in binary string = 10000\n"
     ]
    }
   ],
   "source": [
    "import random\n",
    "from qiskit.quantum_info import Statevector\n",
    "\n",
    "secret = random.randint(0,31)  # the owner is randomly picked\n",
    "secret_string = format(secret, '05b')  # format the owner in 14-bit string\n",
    "oracle = Statevector.from_label(secret_string)  # let the oracle know the owner\n",
    "\n",
    "print(f\"pw = {secret}, in binary string = {secret_string}\")"
   ]
  },
  {
   "cell_type": "code",
   "execution_count": 4,
   "id": "italic-employer",
   "metadata": {},
   "outputs": [],
   "source": [
    "from qiskit.algorithms import AmplificationProblem\n",
    "\n",
    "problem = AmplificationProblem(oracle, is_good_state=secret_string)"
   ]
  },
  {
   "cell_type": "code",
   "execution_count": 5,
   "id": "dutch-journal",
   "metadata": {},
   "outputs": [],
   "source": [
    "from qiskit.algorithms import Grover\n",
    "\n",
    "grover_circuits = []\n",
    "for iteration in range(1,3):\n",
    "    grover = Grover(iterations=iteration)\n",
    "    circuit = grover.construct_circuit(problem)\n",
    "    circuit.measure_all()\n",
    "    grover_circuits.append(circuit)"
   ]
  },
  {
   "cell_type": "code",
   "execution_count": 6,
   "id": "macro-maldives",
   "metadata": {},
   "outputs": [
    {
     "data": {
      "text/html": [
       "<pre style=\"word-wrap: normal;white-space: pre;background: #fff0;line-height: 1.1;font-family: &quot;Courier New&quot;,Courier,monospace\">        ┌───┐┌────┐ ░ ┌─┐            \n",
       "   q_0: ┤ H ├┤0   ├─░─┤M├────────────\n",
       "        ├───┤│    │ ░ └╥┘┌─┐         \n",
       "   q_1: ┤ H ├┤1   ├─░──╫─┤M├─────────\n",
       "        ├───┤│    │ ░  ║ └╥┘┌─┐      \n",
       "   q_2: ┤ H ├┤2 Q ├─░──╫──╫─┤M├──────\n",
       "        ├───┤│    │ ░  ║  ║ └╥┘┌─┐   \n",
       "   q_3: ┤ H ├┤3   ├─░──╫──╫──╫─┤M├───\n",
       "        ├───┤│    │ ░  ║  ║  ║ └╥┘┌─┐\n",
       "   q_4: ┤ H ├┤4   ├─░──╫──╫──╫──╫─┤M├\n",
       "        └───┘└────┘ ░  ║  ║  ║  ║ └╥┘\n",
       "meas: 5/═══════════════╩══╩══╩══╩══╩═\n",
       "                       0  1  2  3  4 </pre>"
      ],
      "text/plain": [
       "        ┌───┐┌────┐ ░ ┌─┐            \n",
       "   q_0: ┤ H ├┤0   ├─░─┤M├────────────\n",
       "        ├───┤│    │ ░ └╥┘┌─┐         \n",
       "   q_1: ┤ H ├┤1   ├─░──╫─┤M├─────────\n",
       "        ├───┤│    │ ░  ║ └╥┘┌─┐      \n",
       "   q_2: ┤ H ├┤2 Q ├─░──╫──╫─┤M├──────\n",
       "        ├───┤│    │ ░  ║  ║ └╥┘┌─┐   \n",
       "   q_3: ┤ H ├┤3   ├─░──╫──╫──╫─┤M├───\n",
       "        ├───┤│    │ ░  ║  ║  ║ └╥┘┌─┐\n",
       "   q_4: ┤ H ├┤4   ├─░──╫──╫──╫──╫─┤M├\n",
       "        └───┘└────┘ ░  ║  ║  ║  ║ └╥┘\n",
       "meas: 5/═══════════════╩══╩══╩══╩══╩═\n",
       "                       0  1  2  3  4 "
      ]
     },
     "execution_count": 6,
     "metadata": {},
     "output_type": "execute_result"
    }
   ],
   "source": [
    "# With 1 iteration\n",
    "grover_circuits[0].draw()"
   ]
  },
  {
   "cell_type": "code",
   "execution_count": 7,
   "id": "stylish-power",
   "metadata": {},
   "outputs": [
    {
     "data": {
      "text/html": [
       "<pre style=\"word-wrap: normal;white-space: pre;background: #fff0;line-height: 1.1;font-family: &quot;Courier New&quot;,Courier,monospace\">        ┌───┐┌────┐┌────┐ ░ ┌─┐            \n",
       "   q_0: ┤ H ├┤0   ├┤0   ├─░─┤M├────────────\n",
       "        ├───┤│    ││    │ ░ └╥┘┌─┐         \n",
       "   q_1: ┤ H ├┤1   ├┤1   ├─░──╫─┤M├─────────\n",
       "        ├───┤│    ││    │ ░  ║ └╥┘┌─┐      \n",
       "   q_2: ┤ H ├┤2 Q ├┤2 Q ├─░──╫──╫─┤M├──────\n",
       "        ├───┤│    ││    │ ░  ║  ║ └╥┘┌─┐   \n",
       "   q_3: ┤ H ├┤3   ├┤3   ├─░──╫──╫──╫─┤M├───\n",
       "        ├───┤│    ││    │ ░  ║  ║  ║ └╥┘┌─┐\n",
       "   q_4: ┤ H ├┤4   ├┤4   ├─░──╫──╫──╫──╫─┤M├\n",
       "        └───┘└────┘└────┘ ░  ║  ║  ║  ║ └╥┘\n",
       "meas: 5/═════════════════════╩══╩══╩══╩══╩═\n",
       "                             0  1  2  3  4 </pre>"
      ],
      "text/plain": [
       "        ┌───┐┌────┐┌────┐ ░ ┌─┐            \n",
       "   q_0: ┤ H ├┤0   ├┤0   ├─░─┤M├────────────\n",
       "        ├───┤│    ││    │ ░ └╥┘┌─┐         \n",
       "   q_1: ┤ H ├┤1   ├┤1   ├─░──╫─┤M├─────────\n",
       "        ├───┤│    ││    │ ░  ║ └╥┘┌─┐      \n",
       "   q_2: ┤ H ├┤2 Q ├┤2 Q ├─░──╫──╫─┤M├──────\n",
       "        ├───┤│    ││    │ ░  ║  ║ └╥┘┌─┐   \n",
       "   q_3: ┤ H ├┤3   ├┤3   ├─░──╫──╫──╫─┤M├───\n",
       "        ├───┤│    ││    │ ░  ║  ║  ║ └╥┘┌─┐\n",
       "   q_4: ┤ H ├┤4   ├┤4   ├─░──╫──╫──╫──╫─┤M├\n",
       "        └───┘└────┘└────┘ ░  ║  ║  ║  ║ └╥┘\n",
       "meas: 5/═════════════════════╩══╩══╩══╩══╩═\n",
       "                             0  1  2  3  4 "
      ]
     },
     "execution_count": 7,
     "metadata": {},
     "output_type": "execute_result"
    }
   ],
   "source": [
    "# With 2 iterations\n",
    "grover_circuits[1].draw()"
   ]
  },
  {
   "cell_type": "code",
   "execution_count": 8,
   "id": "other-screen",
   "metadata": {},
   "outputs": [
    {
     "name": "stdout",
     "output_type": "stream",
     "text": [
      "SamplerResult(quasi_dists=[{'01100': 0.017, '00110': 0.032, '10111': 0.023, '11000': 0.018, '11001': 0.032, '01001': 0.024, '00101': 0.031, '01111': 0.022, '01010': 0.019, '10001': 0.02, '11100': 0.017, '11110': 0.013, '00010': 0.024, '10101': 0.031, '10000': 0.267, '11010': 0.028, '10011': 0.031, '01000': 0.017, '11011': 0.028, '00100': 0.024, '00011': 0.027, '00111': 0.022, '01011': 0.022, '00000': 0.03, '10100': 0.016, '11101': 0.034, '01101': 0.021, '00001': 0.019, '10110': 0.02, '10010': 0.022, '11111': 0.024, '01110': 0.025}, {'00010': 0.007, '00110': 0.008, '11000': 0.011, '10111': 0.013, '01001': 0.007, '00101': 0.012, '01000': 0.012, '11110': 0.009, '11100': 0.008, '11010': 0.015, '11011': 0.013, '00111': 0.017, '00100': 0.012, '00011': 0.015, '01111': 0.015, '10001': 0.011, '01010': 0.011, '11001': 0.008, '01100': 0.012, '11101': 0.011, '10100': 0.014, '10011': 0.015, '00001': 0.009, '01101': 0.009, '00000': 0.012, '01011': 0.017, '10000': 0.631, '10101': 0.009, '11111': 0.012, '10110': 0.015, '10010': 0.018, '01110': 0.012}], metadata=[{'header_metadata': {}, 'shots': 1000}, {'header_metadata': {}, 'shots': 1000}])\n"
     ]
    }
   ],
   "source": [
    "import qiskit_ibm_runtime\n",
    "from qiskit_ibm_runtime import QiskitRuntimeService\n",
    "\n",
    "service = QiskitRuntimeService()\n",
    "options = {\"backend_name\": \"ibmq_qasm_simulator\"}\n",
    "\n",
    "from qiskit_ibm_runtime import Sampler\n",
    "\n",
    "with Sampler(circuits=grover_circuits, options=options, service=service) as sampler:\n",
    "    result = sampler(circuit_indices=[0,1], shots=1000)\n",
    "    print(result)"
   ]
  },
  {
   "cell_type": "code",
   "execution_count": 9,
   "id": "genuine-phrase",
   "metadata": {},
   "outputs": [
    {
     "name": "stdout",
     "output_type": "stream",
     "text": [
      "As you can see, the quantum computer returned '10000' as the answer with highest probability.\n",
      "And the results with 2 iterations have higher probability than the results with 1 iteration.\n"
     ]
    },
    {
     "data": {
      "image/png": "[encoded data removed]",
      "text/plain": [
       "<Figure size 504x360 with 1 Axes>"
      ]
     },
     "execution_count": 9,
     "metadata": {},
     "output_type": "execute_result"
    }
   ],
   "source": [
    "from qiskit.tools.visualization import plot_histogram\n",
    "\n",
    "# Extract bit string with highest probability from results as the answer\n",
    "result_dict = result.quasi_dists[1]\n",
    "answer = max(result_dict, key=result_dict.get)\n",
    "print(f\"As you can see, the quantum computer returned '{answer}' as the answer with highest probability.\\n\"\n",
    "       \"And the results with 2 iterations have higher probability than the results with 1 iteration.\"\n",
    ")\n",
    "\n",
    "# Plot the results\n",
    "plot_histogram(result.quasi_dists, legend=['1 iteration', '2 iterations'])"
   ]
  },
  {
   "cell_type": "code",
   "execution_count": 10,
   "id": "later-onion",
   "metadata": {},
   "outputs": [
    {
     "name": "stdout",
     "output_type": "stream",
     "text": [
      "Quantum answer: 10000\n",
      "Correct answer: 10000\n",
      "Success!\n"
     ]
    }
   ],
   "source": [
    "# Print the result and the correct answer.\n",
    "print(f\"Quantum answer: {answer}\")\n",
    "print(f\"Correct answer: {secret_string}\")\n",
    "print('Success!' if answer == secret_string else 'Failure!')"
   ]
  },
  {
   "cell_type": "code",
   "execution_count": 11,
   "id": "realistic-chassis",
   "metadata": {},
   "outputs": [
    {
     "data": {
      "text/plain": [
       "'0.4.0'"
      ]
     },
     "execution_count": 11,
     "metadata": {},
     "output_type": "execute_result"
    }
   ],
   "source": [
    "qiskit_ibm_runtime.version.get_version_info()"
   ]
  },
  {
   "cell_type": "code",
   "execution_count": null,
   "id": "sharing-status",
   "metadata": {},
   "outputs": [],
   "source": []
  }
 ],
 "metadata": {
  "kernelspec": {
   "display_name": "Python 3",
   "language": "python",
   "name": "python3"
  },
  "language_info": {
   "codemirror_mode": {
    "name": "ipython",
    "version": 3
   },
   "file_extension": ".py",
   "mimetype": "text/x-python",
   "name": "python",
   "nbconvert_exporter": "python",
   "pygments_lexer": "ipython3",
   "version": "3.8.5"
  }
 },
 "nbformat": 4,
 "nbformat_minor": 5
}
