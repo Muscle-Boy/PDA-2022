{
 "cells": [
  {
   "cell_type": "code",
   "execution_count": 7,
   "metadata": {},
   "outputs": [],
   "source": [
    "import time\n",
    "\n",
    "def baseN(num, b=36, numerals=\"0123456789abcdefghijklmnopqrstuvwxyz\"):\n",
    "    return ((num == 0) and numerals[0]) or (baseN(num // b, b, numerals).lstrip(numerals[0]) + numerals[num % b])\n",
    "\n",
    "def crack(pw : str):\n",
    "    t = time.process_time()\n",
    "\n",
    "    for i in range(36**4):\n",
    "        #print(baseN(i).zfill(4))\n",
    "        if pw == baseN(i).zfill(4):\n",
    "            print(f\"success! pw found: {pw}\")\n",
    "            break\n",
    "\n",
    "    elapsed_time = time.process_time() - t\n",
    "    print(f\"{elapsed_time} seconds\")"
   ]
  },
  {
   "cell_type": "code",
   "execution_count": 8,
   "metadata": {},
   "outputs": [
    {
     "name": "stdout",
     "output_type": "stream",
     "text": [
      "success! pw found: 34qr\n",
      "0.4375 seconds\n"
     ]
    }
   ],
   "source": [
    "#naive guess\n",
    "\n",
    "#input password string\n",
    "#4 digits, only 0-9 a-z accepted\n",
    "\n",
    "password = \"34qr\"\n",
    "crack(password)"
   ]
  },
  {
   "cell_type": "code",
   "execution_count": 9,
   "metadata": {},
   "outputs": [],
   "source": [
    "import random\n",
    "\n",
    "def random_crack(pw : str):\n",
    "    t = time.process_time()\n",
    "    \n",
    "    random_list = [i for i in range(36**4)]\n",
    "    random.shuffle(random_list)\n",
    "    \n",
    "    for i in range(36**4):\n",
    "        guess = baseN(random_list[i]).zfill(4)\n",
    "        if pw == guess:\n",
    "            print(f\"success! pw found: {pw}\")\n",
    "            break\n",
    "\n",
    "    elapsed_time = time.process_time() - t\n",
    "    print(f\"{elapsed_time} seconds\")"
   ]
  },
  {
   "cell_type": "code",
   "execution_count": 10,
   "metadata": {},
   "outputs": [
    {
     "name": "stdout",
     "output_type": "stream",
     "text": [
      "success! pw found: 34qr\n",
      "4.96875 seconds\n"
     ]
    }
   ],
   "source": [
    "#random guess\n",
    "\n",
    "#input password string\n",
    "#4 digits, only 0-9 a-z accepted\n",
    "\n",
    "password = \"34qr\"\n",
    "random_crack(password)"
   ]
  }
 ],
 "metadata": {
  "interpreter": {
   "hash": "baebcc96df09799610c466e4057fcf40a3de7b6ec2b29db862e0f35143ba90a4"
  },
  "kernelspec": {
   "display_name": "Python 3.8.5 ('base')",
   "language": "python",
   "name": "python3"
  },
  "language_info": {
   "codemirror_mode": {
    "name": "ipython",
    "version": 3
   },
   "file_extension": ".py",
   "mimetype": "text/x-python",
   "name": "python",
   "nbconvert_exporter": "python",
   "pygments_lexer": "ipython3",
   "version": "3.8.5"
  },
  "orig_nbformat": 4
 },
 "nbformat": 4,
 "nbformat_minor": 2
}
